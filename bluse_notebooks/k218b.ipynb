{
 "cells": [
  {
   "cell_type": "markdown",
   "metadata": {},
   "source": [
    "# Load in the hits file from k218b\n"
   ]
  },
  {
   "cell_type": "code",
   "execution_count": 2,
   "metadata": {},
   "outputs": [],
   "source": [
    "import sys\n",
    "import numpy as np\n",
    "import h5py\n",
    "import matplotlib.pyplot as plt\n",
    "import os\n",
    "import capnp\n",
    "import pandas as pd\n",
    "import seaborn as sns\n",
    "import re\n",
    "import glob\n",
    "\n",
    "# $RAW_VOLTAGE_DIR\n",
    "\n",
    "# seticore --input \"$RAW_VOLTAGE_DIR\" --recipe \"$BEAMFORMING_RECIPE\" --output \"$OUTPUT_DIR\"\n"
   ]
  },
  {
   "cell_type": "code",
   "execution_count": 3,
   "metadata": {},
   "outputs": [
    {
     "name": "stderr",
     "output_type": "stream",
     "text": [
      "kj/filesystem-disk-unix.c++:1734: warning: PWD environment variable doesn't match current directory; pwd = /mnt_home/mayalaidler\n"
     ]
    }
   ],
   "source": [
    "#Make the pandas dataframe\n",
    "hit_capnp = capnp.load('/mnt_home/mayalaidler/seticore/hit.capnp')\n",
    "\n",
    "# Define a function to read the .hits file\n",
    "def read_hits(filename):\n",
    "    with open(filename, 'rb') as f:\n",
    "        hits = hit_capnp.Hit.read_multiple(f)\n",
    "        data = [hit.to_dict()['filterbank'] for hit in hits]\n",
    "        f.seek(0,0)\n",
    "        hits = hit_capnp.Hit.read_multiple(f)\n",
    "        data2 = [hit.to_dict()['signal'] for hit in hits]\n",
    "        d = pd.DataFrame(data)\n",
    "        d2 = pd.DataFrame(data2)\n",
    "        d3 = pd.concat([d, d2], axis = 1, join = 'outer')\n",
    "    return d3"
   ]
  },
  {
   "cell_type": "markdown",
   "metadata": {},
   "source": []
  },
  {
   "cell_type": "code",
   "execution_count": 15,
   "metadata": {},
   "outputs": [
    {
     "ename": "FileNotFoundError",
     "evalue": "[Errno 2] No such file or directory: '/mnt/blpn0/scratch/data/20230930T111311Z-20230930-0007/seticore_search/guppi_60217_40391_002085_K2-18_0001.hits'",
     "output_type": "error",
     "traceback": [
      "\u001b[0;31m---------------------------------------------------------------------------\u001b[0m",
      "\u001b[0;31mFileNotFoundError\u001b[0m                         Traceback (most recent call last)",
      "\u001b[1;32m/mnt_home/mayalaidler/breakthrough/k218b.ipynb Cell 5\u001b[0m line \u001b[0;36m8\n\u001b[1;32m      <a href='vscode-notebook-cell://ssh-remote%2Bblpc3/mnt_home/mayalaidler/breakthrough/k218b.ipynb#W4sdnNjb2RlLXJlbW90ZQ%3D%3D?line=3'>4</a>\u001b[0m hitsfileD \u001b[39m=\u001b[39m \u001b[39m'\u001b[39m\u001b[39m/mnt/blpn0/scratch/data/20230930T111311Z-20230930-0007/seticore_search/guppi_60217_40391_002085_K2-18_0001.hits\u001b[39m\u001b[39m'\u001b[39m\n\u001b[1;32m      <a href='vscode-notebook-cell://ssh-remote%2Bblpc3/mnt_home/mayalaidler/breakthrough/k218b.ipynb#W4sdnNjb2RlLXJlbW90ZQ%3D%3D?line=5'>6</a>\u001b[0m allHits \u001b[39m=\u001b[39m [\u001b[39m'\u001b[39m\u001b[39m/mnt/blpn*/scratch/data/20230930T111311Z-20230930-0007/seticore_search/guppi_60217_40391_002085_K2-18_0001.hits\u001b[39m\u001b[39m'\u001b[39m]\n\u001b[0;32m----> <a href='vscode-notebook-cell://ssh-remote%2Bblpc3/mnt_home/mayalaidler/breakthrough/k218b.ipynb#W4sdnNjb2RlLXJlbW90ZQ%3D%3D?line=7'>8</a>\u001b[0m \u001b[39mprint\u001b[39m(read_hits(hitsfileD))\n\u001b[1;32m     <a href='vscode-notebook-cell://ssh-remote%2Bblpc3/mnt_home/mayalaidler/breakthrough/k218b.ipynb#W4sdnNjb2RlLXJlbW90ZQ%3D%3D?line=9'>10</a>\u001b[0m dataframes \u001b[39m=\u001b[39m []\n\u001b[1;32m     <a href='vscode-notebook-cell://ssh-remote%2Bblpc3/mnt_home/mayalaidler/breakthrough/k218b.ipynb#W4sdnNjb2RlLXJlbW90ZQ%3D%3D?line=12'>13</a>\u001b[0m \u001b[39mfor\u001b[39;00m pathname \u001b[39min\u001b[39;00m allHits:\n",
      "\u001b[1;32m/mnt_home/mayalaidler/breakthrough/k218b.ipynb Cell 5\u001b[0m line \u001b[0;36m6\n\u001b[1;32m      <a href='vscode-notebook-cell://ssh-remote%2Bblpc3/mnt_home/mayalaidler/breakthrough/k218b.ipynb#W4sdnNjb2RlLXJlbW90ZQ%3D%3D?line=4'>5</a>\u001b[0m \u001b[39mdef\u001b[39;00m \u001b[39mread_hits\u001b[39m(filename):\n\u001b[0;32m----> <a href='vscode-notebook-cell://ssh-remote%2Bblpc3/mnt_home/mayalaidler/breakthrough/k218b.ipynb#W4sdnNjb2RlLXJlbW90ZQ%3D%3D?line=5'>6</a>\u001b[0m     \u001b[39mwith\u001b[39;00m \u001b[39mopen\u001b[39;49m(filename, \u001b[39m'\u001b[39;49m\u001b[39mrb\u001b[39;49m\u001b[39m'\u001b[39;49m) \u001b[39mas\u001b[39;00m f:\n\u001b[1;32m      <a href='vscode-notebook-cell://ssh-remote%2Bblpc3/mnt_home/mayalaidler/breakthrough/k218b.ipynb#W4sdnNjb2RlLXJlbW90ZQ%3D%3D?line=6'>7</a>\u001b[0m         hits \u001b[39m=\u001b[39m hit_capnp\u001b[39m.\u001b[39mHit\u001b[39m.\u001b[39mread_multiple(f)\n\u001b[1;32m      <a href='vscode-notebook-cell://ssh-remote%2Bblpc3/mnt_home/mayalaidler/breakthrough/k218b.ipynb#W4sdnNjb2RlLXJlbW90ZQ%3D%3D?line=7'>8</a>\u001b[0m         data \u001b[39m=\u001b[39m [hit\u001b[39m.\u001b[39mto_dict()[\u001b[39m'\u001b[39m\u001b[39mfilterbank\u001b[39m\u001b[39m'\u001b[39m] \u001b[39mfor\u001b[39;00m hit \u001b[39min\u001b[39;00m hits]\n",
      "File \u001b[0;32m~/mypython/lib/python3.12/site-packages/IPython/core/interactiveshell.py:324\u001b[0m, in \u001b[0;36m_modified_open\u001b[0;34m(file, *args, **kwargs)\u001b[0m\n\u001b[1;32m    317\u001b[0m \u001b[39mif\u001b[39;00m file \u001b[39min\u001b[39;00m {\u001b[39m0\u001b[39m, \u001b[39m1\u001b[39m, \u001b[39m2\u001b[39m}:\n\u001b[1;32m    318\u001b[0m     \u001b[39mraise\u001b[39;00m \u001b[39mValueError\u001b[39;00m(\n\u001b[1;32m    319\u001b[0m         \u001b[39mf\u001b[39m\u001b[39m\"\u001b[39m\u001b[39mIPython won\u001b[39m\u001b[39m'\u001b[39m\u001b[39mt let you open fd=\u001b[39m\u001b[39m{\u001b[39;00mfile\u001b[39m}\u001b[39;00m\u001b[39m by default \u001b[39m\u001b[39m\"\u001b[39m\n\u001b[1;32m    320\u001b[0m         \u001b[39m\"\u001b[39m\u001b[39mas it is likely to crash IPython. If you know what you are doing, \u001b[39m\u001b[39m\"\u001b[39m\n\u001b[1;32m    321\u001b[0m         \u001b[39m\"\u001b[39m\u001b[39myou can use builtins\u001b[39m\u001b[39m'\u001b[39m\u001b[39m open.\u001b[39m\u001b[39m\"\u001b[39m\n\u001b[1;32m    322\u001b[0m     )\n\u001b[0;32m--> 324\u001b[0m \u001b[39mreturn\u001b[39;00m io_open(file, \u001b[39m*\u001b[39;49margs, \u001b[39m*\u001b[39;49m\u001b[39m*\u001b[39;49mkwargs)\n",
      "\u001b[0;31mFileNotFoundError\u001b[0m: [Errno 2] No such file or directory: '/mnt/blpn0/scratch/data/20230930T111311Z-20230930-0007/seticore_search/guppi_60217_40391_002085_K2-18_0001.hits'"
     ]
    }
   ],
   "source": [
    "directory = '/scratch/data/K2-18b-raw/20231001T110319Z-20230930-0005/Unknown/GUPPI'\n",
    "\n",
    "#Seticore has already been run on these\n",
    "hitsfileD = '/mnt/blpn0/scratch/data/20230930T111311Z-20230930-0007/seticore_search/guppi_60217_40391_002085_K2-18_0001.hits'\n",
    "\n",
    "allHits = ['/mnt/blpn*/scratch/data/20230930T111311Z-20230930-0007/seticore_search/guppi_60217_40391_002085_K2-18_0001.hits']\n",
    "\n",
    "print(read_hits(hitsfileD))\n",
    "\n",
    "dataframes = []\n",
    "\n",
    "\n",
    "for pathname in allHits:\n",
    "    print(glob.glob(pathname))\n",
    "    expanded_paths = glob.glob(pathname)\n",
    "    print(expanded_paths)\n",
    "    for path in expanded_paths:\n",
    "        if path.endswith('.hits'):  # Filter files by extension\n",
    "            # Ensure that we're processing files and not directories\n",
    "            if os.path.isfile(path):\n",
    "                data = read_hits(path)\n",
    "                dataframes.append(data)\n",
    "                mergedpd = pd.concat(dataframes, ignore_index=True)\n",
    "                \n",
    "#Bands all over the blpn0-64, plot all of the bands\n",
    "\n",
    "print(mergedpd)\n",
    "    "
   ]
  },
  {
   "cell_type": "code",
   "execution_count": 7,
   "metadata": {},
   "outputs": [
    {
     "ename": "NameError",
     "evalue": "name 'mergedNormalizedpd' is not defined",
     "output_type": "error",
     "traceback": [
      "\u001b[0;31m---------------------------------------------------------------------------\u001b[0m",
      "\u001b[0;31mNameError\u001b[0m                                 Traceback (most recent call last)",
      "\u001b[1;32m/mnt_home/mayalaidler/breakthrough/k218b.ipynb Cell 7\u001b[0m line \u001b[0;36m1\n\u001b[1;32m     <a href='vscode-notebook-cell://ssh-remote%2Bblpc3/mnt_home/mayalaidler/breakthrough/k218b.ipynb#W5sdnNjb2RlLXJlbW90ZQ%3D%3D?line=15'>16</a>\u001b[0m     mergedpd \u001b[39m=\u001b[39m pd\u001b[39m.\u001b[39mDataFrame()  \u001b[39m# Empty DataFrame if no data found\u001b[39;00m\n\u001b[1;32m     <a href='vscode-notebook-cell://ssh-remote%2Bblpc3/mnt_home/mayalaidler/breakthrough/k218b.ipynb#W5sdnNjb2RlLXJlbW90ZQ%3D%3D?line=17'>18</a>\u001b[0m \u001b[39m# Print or process mergedNormalizedpd as needed\u001b[39;00m\n\u001b[0;32m---> <a href='vscode-notebook-cell://ssh-remote%2Bblpc3/mnt_home/mayalaidler/breakthrough/k218b.ipynb#W5sdnNjb2RlLXJlbW90ZQ%3D%3D?line=18'>19</a>\u001b[0m \u001b[39mprint\u001b[39m(mergedNormalizedpd)\n",
      "\u001b[0;31mNameError\u001b[0m: name 'mergedNormalizedpd' is not defined"
     ]
    }
   ],
   "source": [
    "allHits = ['/mnt/blpn*/scratch/data/20230930T111311Z-20230930-0007/seticore_search/guppi_60217_40391_002085_K2-18_0001.hits']\n",
    "\n",
    "for pathname in allHits:\n",
    "    expanded_paths = glob.glob(pathname)\n",
    "    for path in expanded_paths:\n",
    "        if path.endswith('.hits'):  # Filter files by extension\n",
    "            # Ensure that we're processing files and not directories\n",
    "            if os.path.isfile(path):\n",
    "                data = read_hits(path)\n",
    "                dataframes.append(data)\n",
    "\n",
    "# Concatenate all the dataframes\n",
    "if dataframes:\n",
    "    mergedpd = pd.concat(dataframes, ignore_index=True)\n",
    "else:\n",
    "    mergedpd = pd.DataFrame()  # Empty DataFrame if no data found\n",
    "\n",
    "# Print or process mergedNormalizedpd as needed\n",
    "print(mergedpd)\n"
   ]
  },
  {
   "cell_type": "markdown",
   "metadata": {},
   "source": [
    "## Make the same hits plot that I made for the JWST \n",
    "\n"
   ]
  },
  {
   "cell_type": "markdown",
   "metadata": {},
   "source": []
  }
 ],
 "metadata": {
  "kernelspec": {
   "display_name": "mypython",
   "language": "python",
   "name": "python3"
  },
  "language_info": {
   "codemirror_mode": {
    "name": "ipython",
    "version": 3
   },
   "file_extension": ".py",
   "mimetype": "text/x-python",
   "name": "python",
   "nbconvert_exporter": "python",
   "pygments_lexer": "ipython3",
   "version": "3.12.3"
  },
  "orig_nbformat": 4
 },
 "nbformat": 4,
 "nbformat_minor": 2
}
